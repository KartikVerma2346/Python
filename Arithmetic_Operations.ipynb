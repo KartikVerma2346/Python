{
  "nbformat": 4,
  "nbformat_minor": 0,
  "metadata": {
    "colab": {
      "provenance": [],
      "authorship_tag": "ABX9TyN/FRS8CN1EgOaAse48mNyg",
      "include_colab_link": true
    },
    "kernelspec": {
      "name": "python3",
      "display_name": "Python 3"
    },
    "language_info": {
      "name": "python"
    }
  },
  "cells": [
    {
      "cell_type": "markdown",
      "metadata": {
        "id": "view-in-github",
        "colab_type": "text"
      },
      "source": [
        "<a href=\"https://colab.research.google.com/github/KartikVerma2346/Python/blob/main/Arithmetic_Operations.ipynb\" target=\"_parent\"><img src=\"https://colab.research.google.com/assets/colab-badge.svg\" alt=\"Open In Colab\"/></a>"
      ]
    },
    {
      "cell_type": "code",
      "execution_count": 5,
      "metadata": {
        "colab": {
          "base_uri": "https://localhost:8080/"
        },
        "id": "MjS6p-rH1Ya8",
        "outputId": "5f1ba336-1bb6-49ae-c996-6cdd13da3355"
      },
      "outputs": [
        {
          "output_type": "stream",
          "name": "stdout",
          "text": [
            "Enter the first variable \n",
            "10\n",
            "Enter the second variable \n",
            "20\n",
            "30.0\n",
            "-10.0\n",
            "200.0\n",
            "10.0\n",
            "0.5\n",
            "0.0\n"
          ]
        }
      ],
      "source": [
        "a = float(input(\"Enter the first variable \\n\"))\n",
        "b = float(input(\"Enter the second variable \\n\"))\n",
        "c = a + b\n",
        "d = a - b\n",
        "e = a * b\n",
        "f = a % b\n",
        "g = a / b\n",
        "h = a // b\n",
        "\n",
        "print(c)\n",
        "print(d)\n",
        "print(e)\n",
        "print(f)\n",
        "print(g)\n",
        "print(h)"
      ]
    }
  ]
}