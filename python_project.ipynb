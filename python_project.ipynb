{
  "cells": [
    {
      "cell_type": "markdown",
      "metadata": {
        "id": "view-in-github",
        "colab_type": "text"
      },
      "source": [
        "<a href=\"https://colab.research.google.com/github/KartikVerma2346/Python/blob/main/python_project.ipynb\" target=\"_parent\"><img src=\"https://colab.research.google.com/assets/colab-badge.svg\" alt=\"Open In Colab\"/></a>"
      ]
    },
    {
      "cell_type": "code",
      "execution_count": null,
      "metadata": {
        "colab": {
          "background_save": true
        },
        "id": "tjNw1op-1Q7-"
      },
      "outputs": [],
      "source": [
        "accounts = []\n",
        "\n",
        "while True:\n",
        "    print(\"MAIN MENU\")\n",
        "    print(\"1. NEW ACCOUNT\")\n",
        "    print(\"2. DEPOSIT AMOUNT\")\n",
        "    print(\"3. WITHDRAW AMOUNT\")\n",
        "    print(\"4. BALANCE ENQUIRY\")\n",
        "    print(\"5. ALL ACCOUNT HOLDER LIST\")\n",
        "    print(\"6. CLOSE AN ACCOUNT\")\n",
        "    print(\"7. MODIFY AN ACCOUNT\")\n",
        "    print(\"8. EXIT\")\n",
        "\n",
        "    choice = input(\"Select Your Option (1-8): \")\n",
        "\n",
        "    if choice == '1':\n",
        "        acc_No = int(input(\"Enter the account no: \"))\n",
        "        name = input(\"Enter the account holder name: \")\n",
        "        acc_type = input(\"Enter the type of account [C/S]: \")\n",
        "        deposit = int(input(\"Enter the initial amount: \"))\n",
        "        accounts.append({\"acc_No\": acc_No, \"name\": name, \"deposit\": deposit, \"acc_type\": acc_type})\n",
        "    elif choice == '2':\n",
        "        acc_No = int(input(\"Enter the account no: \"))\n",
        "        amount = int(input(\"Enter the amount to deposit: \"))\n",
        "        for i in accounts:\n",
        "            if i[\"acc_No\"] == acc_No:\n",
        "                i[\"deposit\"] += amount\n",
        "                print(\"Deposited successfully.\")\n",
        "                break\n",
        "        else:\n",
        "            print(\"Account not found.\")\n",
        "    elif choice == '3':\n",
        "        acc_No = int(input(\"Enter the account no: \"))\n",
        "        amount = int(input(\"Enter the amount to withdraw: \"))\n",
        "        for i in accounts:\n",
        "            if i[\"acc_No\"] == acc_No:\n",
        "                if i[\"deposit\"] >= amount:\n",
        "                    i[\"deposit\"] -= amount\n",
        "                    print(\"Withdrawn successfully.\")\n",
        "                else:\n",
        "                    print(\"Insufficient balance.\")\n",
        "                break\n",
        "        else:\n",
        "            print(\"Account not found.\")\n",
        "    elif choice == '4':\n",
        "        acc_No = int(input(\"Enter the account no: \"))\n",
        "        for i in accounts:\n",
        "            if i[\"acc_No\"] == acc_No:\n",
        "                print(f\"Account Balance: {i['deposit']}\")\n",
        "                break\n",
        "        else:\n",
        "            print(\"Account not found.\")\n",
        "    elif choice == '5':\n",
        "        if accounts:\n",
        "            for i in accounts:\n",
        "                print(f\"Account No: {i['acc_No']}, Name: {i['name']}, Balance: {i['deposit']}, Type: {i['acc_type']}\")\n",
        "        else:\n",
        "            print(\"No accounts exist.\")\n",
        "    elif choice == '6':\n",
        "        acc_No = int(input(\"Enter the account no to close: \"))\n",
        "        for i in accounts:\n",
        "            if i[\"acc_No\"] == acc_No:\n",
        "                accounts.remove(i)\n",
        "                print(\"Account closed successfully.\")\n",
        "                break\n",
        "        else:\n",
        "            print(\"Account not found.\")\n",
        "    elif choice == '7':\n",
        "        acc_No = int(input(\"Enter the account no to modify: \"))\n",
        "        for i in accounts:\n",
        "            if i[\"acc_No\"] == acc_No:\n",
        "                i[\"name\"] = input(\"Enter new name: \")\n",
        "                i[\"acc_type\"] = input(\"Enter new account type [C/S]: \")\n",
        "                i[\"deposit\"] = int(input(\"Enter new balance: \"))\n",
        "                print(\"Account modified successfully.\")\n",
        "                break\n",
        "        else:\n",
        "            print(\"Account not found.\")\n",
        "    elif choice == '8':\n",
        "        print(\"Thanks for using the bank management system.\")\n",
        "        break\n",
        "    else:\n",
        "        print(\"Invalid choice.\")\n"
      ]
    }
  ],
  "metadata": {
    "colab": {
      "provenance": [],
      "authorship_tag": "ABX9TyNhBkYmxTinUHQvM1pcjEsV",
      "include_colab_link": true
    },
    "kernelspec": {
      "display_name": "Python 3",
      "name": "python3"
    },
    "language_info": {
      "name": "python"
    }
  },
  "nbformat": 4,
  "nbformat_minor": 0
}