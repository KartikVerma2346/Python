{
  "nbformat": 4,
  "nbformat_minor": 0,
  "metadata": {
    "colab": {
      "provenance": [],
      "authorship_tag": "ABX9TyNNmvafk3epCVti8T9lvgss",
      "include_colab_link": true
    },
    "kernelspec": {
      "name": "python3",
      "display_name": "Python 3"
    },
    "language_info": {
      "name": "python"
    }
  },
  "cells": [
    {
      "cell_type": "markdown",
      "metadata": {
        "id": "view-in-github",
        "colab_type": "text"
      },
      "source": [
        "<a href=\"https://colab.research.google.com/github/KartikVerma2346/Python/blob/main/py_p_2.ipynb\" target=\"_parent\"><img src=\"https://colab.research.google.com/assets/colab-badge.svg\" alt=\"Open In Colab\"/></a>"
      ]
    },
    {
      "cell_type": "code",
      "source": [
        "from time import time\n",
        "import random\n",
        "\n",
        "def total_errors(paragraph, usertyped):\n",
        "    error_count = 0\n",
        "    min_length = min(len(paragraph), len(usertyped))\n",
        "\n",
        "    for i in range(min_length):\n",
        "        if paragraph[i] != usertyped[i]:\n",
        "            error_count += 1\n",
        "\n",
        "    if len(paragraph) > len(usertyped):\n",
        "        error_count += len(paragraph) - len(usertyped)\n",
        "    elif len(paragraph) < len(usertyped):\n",
        "        error_count += len(usertyped) - len(paragraph)\n",
        "\n",
        "    return error_count\n",
        "\n",
        "\n",
        "def calculate_speed(time_start, time_end, userinput):\n",
        "    time_delay = time_end - time_start\n",
        "    speed = len(userinput) / time_delay\n",
        "    return round(speed, 2)\n",
        "\n",
        "while True:\n",
        "    choice = input(\"Ready to give a Typing Test? (yes/no): \")\n",
        "    if choice.lower() == \"yes\":\n",
        "        tests = [\n",
        "            \"honest is the best policy\",\n",
        "            \"My name is Kartik Verma\",\n",
        "            \"Welcome to UPES Bidholi campus\",\n",
        "            \"Hi it is nice to see you\",\n",
        "            \"spread love wherever you go\",\n",
        "            \"We age not by years, but by stories\",\n",
        "            \"Success is not the key to Happiness\",\n",
        "            \"Not all those who wander are lost\"\n",
        "        ]\n",
        "        test_string = random.choice(tests)\n",
        "        print(\"**** Typing Speed Test ****\")\n",
        "        print(test_string)\n",
        "        print()\n",
        "        start_time = time()\n",
        "        user_input = input(\"Enter: \")\n",
        "        end_time = time()\n",
        "\n",
        "        speed = calculate_speed(start_time, end_time, user_input)\n",
        "        errors = total_errors(test_string, user_input)\n",
        "\n",
        "        print('Speed:', speed, \"w/sec\")\n",
        "        print(\"Errors:\", errors)\n",
        "\n",
        "    elif choice.lower() == 'no':\n",
        "        print(\"Thank you for using the Typing Speed Test.\")\n",
        "        break\n",
        "    else:\n",
        "        print(\"Invalid input. Please enter 'yes' or 'no'.\")\n"
      ],
      "metadata": {
        "colab": {
          "base_uri": "https://localhost:8080/"
        },
        "id": "cc_v2mp0EMsk",
        "outputId": "220944eb-d910-4513-c9f7-d07a8cb2bb85"
      },
      "execution_count": null,
      "outputs": [
        {
          "output_type": "stream",
          "name": "stdout",
          "text": [
            "Ready to give a Typing Test? (yes/no): no\n",
            "Thank you for using the Typing Speed Test.\n"
          ]
        }
      ]
    }
  ]
}