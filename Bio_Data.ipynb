{
  "nbformat": 4,
  "nbformat_minor": 0,
  "metadata": {
    "colab": {
      "provenance": [],
      "authorship_tag": "ABX9TyNCvg22TEJG01oQr+qlv3b5",
      "include_colab_link": true
    },
    "kernelspec": {
      "name": "python3",
      "display_name": "Python 3"
    },
    "language_info": {
      "name": "python"
    }
  },
  "cells": [
    {
      "cell_type": "markdown",
      "metadata": {
        "id": "view-in-github",
        "colab_type": "text"
      },
      "source": [
        "<a href=\"https://colab.research.google.com/github/KartikVerma2346/Python/blob/main/Bio_Data.ipynb\" target=\"_parent\"><img src=\"https://colab.research.google.com/assets/colab-badge.svg\" alt=\"Open In Colab\"/></a>"
      ]
    },
    {
      "cell_type": "code",
      "execution_count": 5,
      "metadata": {
        "colab": {
          "base_uri": "https://localhost:8080/"
        },
        "id": "nD0Xz4ZT7VF6",
        "outputId": "6252d8b3-38eb-4426-a312-17afe6eda5d6"
      },
      "outputs": [
        {
          "output_type": "stream",
          "name": "stdout",
          "text": [
            "Enter your name : Kartik\n",
            "Enter your sap id : 500124513\n",
            "Enter yor roll no : 13\n",
            "Enter your university name : UPES\n",
            "Enter your department : C.S\n",
            "Enter your course : B.Tech\n",
            "Enter your semester : 2\n",
            "Name :  Kartik\n",
            "Sap id :  500124513\n",
            "Roll No :  13\n",
            "University name :  UPES\n",
            "Department :  C.S\n",
            "Course :  B.Tech\n",
            "Semester :  2\n"
          ]
        }
      ],
      "source": [
        "name = input(\"Enter your name : \")\n",
        "sap_id = int(input(\"Enter your sap id : \"))\n",
        "roll_no = int(input(\"Enter yor roll no : \"))\n",
        "university_name = input(\"Enter your university name : \")\n",
        "department = input(\"Enter your department : \")\n",
        "course = input(\"Enter your course : \")\n",
        "semester = int(input(\"Enter your semester : \"))\n",
        "print('Name : ',name)\n",
        "print('Sap id : ',sap_id)\n",
        "print('Roll No : ',roll_no)\n",
        "print('University name : ',university_name)\n",
        "print('Department : ',department)\n",
        "print('Course : ',course)\n",
        "print('Semester : ',semester)\n"
      ]
    }
  ]
}